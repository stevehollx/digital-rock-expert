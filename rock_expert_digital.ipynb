{
  "cells": [
    {
      "cell_type": "code",
      "execution_count": null,
      "metadata": {
        "colab": {
          "base_uri": "https://localhost:8080/"
        },
        "id": "7dKL_ivGeH7-",
        "outputId": "35656a18-dd9e-4324-83ac-5e515fb7d0a2"
      },
      "outputs": [
        {
          "name": "stdout",
          "output_type": "stream",
          "text": [
            "Collecting qrcode\n",
            "  Downloading qrcode-7.4.2-py3-none-any.whl.metadata (17 kB)\n",
            "Requirement already satisfied: typing-extensions in /usr/local/lib/python3.10/dist-packages (from qrcode) (4.12.2)\n",
            "Collecting pypng (from qrcode)\n",
            "  Downloading pypng-0.20220715.0-py3-none-any.whl.metadata (13 kB)\n",
            "Downloading qrcode-7.4.2-py3-none-any.whl (46 kB)\n",
            "\u001b[?25l   \u001b[90m━━━━━━━━━━━━━━━━━━━━━━━━━━━━━━━━━━━━━━━━\u001b[0m \u001b[32m0.0/46.2 kB\u001b[0m \u001b[31m?\u001b[0m eta \u001b[36m-:--:--\u001b[0m\r\u001b[2K   \u001b[90m━━━━━━━━━━━━━━━━━━━━━━━━━━━━━━━━━━━━━━━━\u001b[0m \u001b[32m46.2/46.2 kB\u001b[0m \u001b[31m3.2 MB/s\u001b[0m eta \u001b[36m0:00:00\u001b[0m\n",
            "\u001b[?25hDownloading pypng-0.20220715.0-py3-none-any.whl (58 kB)\n",
            "\u001b[?25l   \u001b[90m━━━━━━━━━━━━━━━━━━━━━━━━━━━━━━━━━━━━━━━━\u001b[0m \u001b[32m0.0/58.1 kB\u001b[0m \u001b[31m?\u001b[0m eta \u001b[36m-:--:--\u001b[0m\r\u001b[2K   \u001b[90m━━━━━━━━━━━━━━━━━━━━━━━━━━━━━━━━━━━━━━━━\u001b[0m \u001b[32m58.1/58.1 kB\u001b[0m \u001b[31m4.2 MB/s\u001b[0m eta \u001b[36m0:00:00\u001b[0m\n",
            "\u001b[?25hInstalling collected packages: pypng, qrcode\n",
            "Successfully installed pypng-0.20220715.0 qrcode-7.4.2\n"
          ]
        }
      ],
      "source": [
        "!pip install qrcode"
      ]
    },
    {
      "cell_type": "code",
      "execution_count": null,
      "metadata": {
        "id": "2wTrhaD6cr11"
      },
      "outputs": [],
      "source": [
        "'''\n",
        "digital-rock-expert\n",
        "Takes a CSV of hit songs, and allows you to play a game where a song is\n",
        "randomly selected and played, and the players must guess the year, artist, and\n",
        "title.\n",
        "\n",
        "Author - Steve Holl\n",
        "Initial Release August 2024\n",
        "'''"
      ]
    },
    {
      "cell_type": "code",
      "execution_count": null,
      "metadata": {
        "id": "f3HoyA9fd226"
      },
      "outputs": [],
      "source": [
        "import sys\n",
        "import os\n",
        "import requests\n",
        "import csv\n",
        "import io\n",
        "import re\n",
        "from datetime import datetime\n",
        "from time import sleep\n",
        "from tabulate import tabulate\n",
        "\n",
        "import qrcode\n",
        "import pandas as pd\n",
        "\n",
        "from IPython.display import display\n",
        "from IPython.display import Audio"
      ]
    },
    {
      "cell_type": "code",
      "execution_count": null,
      "metadata": {
        "id": "Re47bGHAsOkM"
      },
      "outputs": [],
      "source": [
        "FILENAME = \"/content/rock-chart-final.csv\""
      ]
    },
    {
      "cell_type": "code",
      "execution_count": null,
      "metadata": {
        "id": "phW32ty1epJb"
      },
      "outputs": [],
      "source": [
        "def read_hits_csv(filename=FILENAME):\n",
        "  '''Loads a hits csv into a dataframe for playing. Expects column names:\n",
        "  year, rank, artist, title, and spotify_url.'''\n",
        "\n",
        "  df = pd.read_csv(filename)\n",
        "  df = df[df['spotify_url'].notnull()]\n",
        "  while filename == \"\":\n",
        "    input('Please enter the full path of the CSV where the hits are located.')\n",
        "\n",
        "  df = pd.read_csv(filename)\n",
        "  print(f'{len(df)} hits loaded from {filename}!')\n",
        "\n",
        "  return df"
      ]
    },
    {
      "cell_type": "code",
      "execution_count": null,
      "metadata": {
        "id": "96Ls7u6qg_1S"
      },
      "outputs": [],
      "source": [
        "def get_year_range(df):\n",
        "  '''Trims the hit list to specified years and top N songs'''\n",
        "\n",
        "  try:\n",
        "    earliest = input(f'What is the earliest year you want to use? File contains {df.year.min()} to {df.year.max()} (e.g. {df.year.min()}): ')\n",
        "  except:\n",
        "    earliest = df.year.min()\n",
        "    print('Invalid input. Setting year to the minimum year available in the uploaded data.')\n",
        "\n",
        "  try:\n",
        "    latest = input(f'What is the latest year you want to use? File contains {df.year.min()} to {df.year.max()} (e.g. {df.year.max()}): ')\n",
        "  except:\n",
        "    latest = df.year.max()\n",
        "    print('Invalid input. Setting year to the maximum year available in the uploaded data.')\n",
        "\n",
        "  df = df[(df['year'] >= int(earliest)) & (df['year'] <= int(latest))]\n",
        "\n",
        "  print(f'You have selected a range of {int(latest) - int(earliest)} years. This contains {len(df)} songs.')\n",
        "  top = 50\n",
        "  top = input('Would you like to reduce to a certain amount of top hits per year? If so, enter the amount of top hits per year to play with (e.g. 10): ')\n",
        "  df = df[(df['rank'] >= int(1)) & (df['rank'] <= int(top))]\n",
        "\n",
        "  return df"
      ]
    },
    {
      "cell_type": "code",
      "execution_count": null,
      "metadata": {
        "id": "48GjItPOw1_j"
      },
      "outputs": [],
      "source": [
        "def team_init():\n",
        "  '''Gets team names and sets up the team list'''\n",
        "  team_cnt = input('\\n\\nHow many teams are playing? (e.g. 2): ')\n",
        "  print('\\n')\n",
        "\n",
        "  teams = []\n",
        "\n",
        "  for team in range(1,int(team_cnt)+1):\n",
        "    name = \"\"\n",
        "    while name == \"\":\n",
        "      name = input(f'Enter the team {team} name: ')\n",
        "    teams.append(name)\n",
        "  return teams"
      ]
    },
    {
      "cell_type": "code",
      "execution_count": null,
      "metadata": {
        "id": "8ohLZOpD9eQg"
      },
      "outputs": [],
      "source": [
        "def generate_qr_code(url):\n",
        "    '''Generates a QR code for the URL.'''\n",
        "\n",
        "    qr = qrcode.QRCode(\n",
        "        version=1,\n",
        "        error_correction=qrcode.constants.ERROR_CORRECT_L,\n",
        "        box_size=10,\n",
        "        border=4,\n",
        "    )\n",
        "\n",
        "    qr.add_data(url)\n",
        "    qr.make(fit=True)\n",
        "\n",
        "    img = qr.make_image(fill='black', back_color='white')\n",
        "\n",
        "    return img"
      ]
    },
    {
      "cell_type": "code",
      "execution_count": null,
      "metadata": {
        "id": "FGo879PDr5yc"
      },
      "outputs": [],
      "source": [
        "def get_song(df,boards,team_idx):\n",
        "  '''Selects a random song from the specified DataFrame'''\n",
        "\n",
        "  my_song = df.sample(n=1)\n",
        "  idx = my_song.index\n",
        "\n",
        "  #Play song\n",
        "  print('\\nNow playing your song to guess.\\n\\n')\n",
        "\n",
        "  my_qr = generate_qr_code(my_song['spotify_url'].values[0])\n",
        "\n",
        "  display(my_qr)\n",
        "  print(my_song['spotify_url'].values[0])\n",
        "\n",
        "  input('\\nPress enter to find out song details.')\n",
        "  print(tabulate(my_song[['year','artist','title']],\n",
        "                headers='keys', tablefmt='psql',showindex=False))\n",
        "\n",
        "  df.drop(idx, inplace=True)\n",
        "\n",
        "  global teams\n",
        "  curr_team = teams[team_idx]\n",
        "\n",
        "  result = input(f'Did team {curr_team} guess correctly? (e.g. y, n) ')\n",
        "\n",
        "  if result.lower() == 'y' or result.lower() == 'yes':\n",
        "    boards[team_idx] = pd.concat([boards[team_idx], my_song], ignore_index=True)\n",
        "  else:\n",
        "    print ('\\n')\n",
        "    is_stolen = input('Did another player steal the guess? (y/n): ')\n",
        "    if is_stolen.lower() == 'y' or result.lower() == 'yes':\n",
        "      for i in range(0,len(teams)):\n",
        "        print(f'{i}. {teams[i]}')\n",
        "\n",
        "      stealing_idx = \"\"\n",
        "      while stealing_idx == \"\":\n",
        "        x = input('Enter the number of the team that won the steal: ')\n",
        "        try:\n",
        "          stealing_idx = int(x)\n",
        "        except:\n",
        "          stealing_idx = \"\"\n",
        "\n",
        "      boards[stealing_idx] = pd.concat([boards[stealing_idx], my_song],\n",
        "                                        ignore_index=True)\n",
        "\n",
        "  return df,boards"
      ]
    },
    {
      "cell_type": "code",
      "execution_count": null,
      "metadata": {
        "id": "3l3FL1O12A8S"
      },
      "outputs": [],
      "source": [
        "def board_init(teams,df):\n",
        "  '''When passed the team board list  and song df, sets up the board for\n",
        "   each team with a randomly selected song.'''\n",
        "\n",
        "  boards = []\n",
        "\n",
        "  for team in range(0,len(teams)):\n",
        "    boards.append(None)\n",
        "\n",
        "  for team in range(0,len(teams)):\n",
        "    my_song = df.sample(n=1)\n",
        "    idx = my_song.index\n",
        "    df.drop(idx, inplace=True)\n",
        "    boards[team] = pd.DataFrame(my_song)\n",
        "  return boards"
      ]
    },
    {
      "cell_type": "code",
      "execution_count": null,
      "metadata": {
        "colab": {
          "background_save": true,
          "base_uri": "https://localhost:8080/"
        },
        "id": "5p5eLT_8wBo2",
        "outputId": "6a19a5cd-5c4a-445b-8920-c8af964c0fb8"
      },
      "outputs": [
        {
          "name": "stdout",
          "output_type": "stream",
          "text": [
            "6045 hits loaded from /content/rock-chart-final.csv!\n",
            "\n",
            "\n"
          ]
        }
      ],
      "source": [
        "#Initialize game\n",
        "df = read_hits_csv()\n",
        "teams = team_init()\n",
        "df = get_year_range(df)\n",
        "boards = board_init(teams,df)\n",
        "\n",
        "def main():\n",
        "\n",
        "  print('======================================\\n')\n",
        "\n",
        "  # Start game\n",
        "\n",
        "  idx = 0\n",
        "\n",
        "  a = pd.DataFrame()\n",
        "  winning_team = \"\"\n",
        "\n",
        "  global df\n",
        "  global teams\n",
        "  global boards\n",
        "\n",
        "  while len(df) > 0 and winning_team == \"\":\n",
        "\n",
        "      print('Current team scores:\\n====================')\n",
        "      for i in range(0,len(teams)):\n",
        "        print(f'{teams[i]}: {len(boards[i])}')\n",
        "        if len(boards[i]) >= 10:\n",
        "          winning_team = teams[i]\n",
        "      print('====================\\n\\n')\n",
        "      if winning_team != \"\":\n",
        "          print(f'\\n\\n****************************************\\n \\\n",
        "          {winning_team} has won!\\n****************************************\\n\\n')\n",
        "          break\n",
        "\n",
        "      curr_team = teams[idx]\n",
        "      print(f'Team {curr_team} is now playing.\\n')\n",
        "      print('This is your current board:')\n",
        "      print(tabulate(boards[idx][['year','artist','title']],\n",
        "                    headers='keys', tablefmt='psql',showindex=False))\n",
        "\n",
        "      df,boards = get_song(df,boards,idx)\n",
        "\n",
        "      # Move to the next team, wrapping around at end\n",
        "      idx = (idx + 1) % len(teams)\n",
        "\n",
        "      print('\\n====================================\\n')\n",
        "\n",
        "if __name__ == \"__main__\":\n",
        "    main()\n"
      ]
    },
    {
      "cell_type": "markdown",
      "metadata": {
        "id": "6IrJdPihlx0R"
      },
      "source": []
    },
    {
      "cell_type": "markdown",
      "metadata": {
        "id": "AnZFNiexlmHQ"
      },
      "source": []
    }
  ],
  "metadata": {
    "colab": {
      "provenance": []
    },
    "kernelspec": {
      "display_name": "Python 3",
      "name": "python3"
    },
    "language_info": {
      "name": "python"
    }
  },
  "nbformat": 4,
  "nbformat_minor": 0
}